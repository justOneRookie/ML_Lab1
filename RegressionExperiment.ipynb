{
 "cells": [
  {
   "cell_type": "code",
   "execution_count": 1,
   "metadata": {},
   "outputs": [
    {
     "data": {
      "image/png": "[encoded data removed]",
      "text/plain": [
       "<matplotlib.figure.Figure at 0x7fe24c38a828>"
      ]
     },
     "metadata": {},
     "output_type": "display_data"
    }
   ],
   "source": [
    "import numpy\n",
    "import jupyter\n",
    "from sklearn.datasets import load_svmlight_file\n",
    "from sklearn.model_selection import train_test_split\n",
    "from matplotlib import pyplot\n",
    "\n",
    "def compute_loss(x, y, w):\n",
    "    m = y.shape[0]\n",
    "    C = x.dot(w) - y\n",
    "    loss = (C.T.dot(C))/ (2*m)\n",
    "    return loss\n",
    "\n",
    "def gradient_descent(x, y, w, learning_rate, iteration, x_test, y_test):\n",
    "    m = y.shape[0]\n",
    "    loss_history = numpy.zeros((iteration, 1))\n",
    "    test_loss_history = numpy.zeros((iteration, 1))\n",
    "    for i in range(iteration):\n",
    "        w = w - (learning_rate/m) * (x.T.dot(x.dot(w) - y))\n",
    "        loss_history[i] = compute_loss(x, y, w)\n",
    "        test_loss_history[i] = compute_loss(x_test, y_test, w)\n",
    "    return loss_history, test_loss_history, w\n",
    "\n",
    "x, y = load_svmlight_file(\"housing.txt\")\n",
    "\n",
    "x_train, x_test, y_train, y_test = train_test_split(x, y, test_size = 0.3)\n",
    "x_train, x_test = x_train.toarray(), x_test.toarray()\n",
    "y_train, y_test = y_train.reshape((-1,1)), y_test.reshape((-1,1))\n",
    "\n",
    "iteration = 45000\n",
    "learning_rate = 0.0001\n",
    "w = numpy.zeros((14,1))\n",
    "X_train = numpy.hstack([x_train, numpy.ones((x_train.shape[0], 1))])\n",
    "X_test = numpy.hstack([x_test, numpy.ones((x_test.shape[0], 1))])\n",
    "\n",
    "loss = compute_loss(X_train, y_train, w)\n",
    "loss_history, test_loss_history, w = gradient_descent(X_train, y_train, w, learning_rate, iteration, X_test, y_test)\n",
    "\n",
    "pyplot.plot(loss_history, label='loss')\n",
    "pyplot.plot(test_loss_history, label='validation_loss')\n",
    "pyplot.legend(loc='upper right')\n",
    "pyplot.ylabel('loss')\n",
    "pyplot.xlabel('iteration')\n",
    "pyplot.title('graph')\n",
    "pyplot.show()"
   ]
  },
  {
   "cell_type": "code",
   "execution_count": null,
   "metadata": {},
   "outputs": [],
   "source": []
  }
 ],
 "metadata": {
  "kernelspec": {
   "display_name": "Python 3",
   "language": "python",
   "name": "python3"
  },
  "language_info": {
   "codemirror_mode": {
    "name": "ipython",
    "version": 3
   },
   "file_extension": ".py",
   "mimetype": "text/x-python",
   "name": "python",
   "nbconvert_exporter": "python",
   "pygments_lexer": "ipython3",
   "version": "3.6.2"
  }
 },
 "nbformat": 4,
 "nbformat_minor": 2
}
