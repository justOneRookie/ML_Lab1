{
 "cells": [
  {
   "cell_type": "code",
   "execution_count": 1,
   "metadata": {},
   "outputs": [
    {
     "name": "stdout",
     "output_type": "stream",
     "text": [
      "0.618357487923\n"
     ]
    },
    {
     "data": {
      "image/png": "[encoded data removed]",
      "text/plain": [
       "<matplotlib.figure.Figure at 0x7f2f8c457080>"
      ]
     },
     "metadata": {},
     "output_type": "display_data"
    }
   ],
   "source": [
    "import numpy\n",
    "import jupyter\n",
    "from sklearn.datasets import load_svmlight_file\n",
    "from sklearn.model_selection import train_test_split\n",
    "from matplotlib import pyplot\n",
    "\n",
    "def loss_and_gradient(x, y, x_test, y_test, w, C):\n",
    "\tloss = 0\n",
    "\ttest_loss = 0\n",
    "\ttrain_num, dimension = x.shape[0], x.shape[1]\n",
    "\tgradient = numpy.zeros((1,dimension))\n",
    "\ty_predict = x.dot(w.T)\n",
    "\ty_test_predict = x_test.dot(w.T)\n",
    "\t#loss = sum(max(0, 1-w*x*y)) + 0.5*C*||w||*||w||\n",
    "\tfor m in range(train_num):\n",
    "\t\tif y[m,0]*y_predict[m,0] < 1: #处理 sum(max(0, 1-w*x*y)) 部分\n",
    "\t\t\tloss = loss + 1 - y[m,0]*y_predict[m,0]\n",
    "\tfor m in range(y_test.shape[0]):\n",
    "\t\tif y_test[m,0]*y_test_predict[m,0] <1:\n",
    "\t\t\ttest_loss = test_loss + 1 - y_test[m,0]*y_test_predict[m,0]\n",
    "\tfor d in range(dimension):\n",
    "\t\tloss = loss + 0.5*C*w[0,d]*w[0,d]  #处理 0.5*C*||w||*||w|| 部分\n",
    "\t\t# gradient = C*w - x*y\n",
    "\t\tgradient[0,d] = abs(C*w[0,d])   #处理 C*w 部分\n",
    "\t\tfor m in range(train_num):\n",
    "\t\t\tif y[m,0]*y_predict[m,0] < 1:  #处理 -x*y 部分\n",
    "\t\t\t\tgradient[0,d] = gradient[0,d] - y[m,0]*x[m,d]\n",
    "\treturn loss, test_loss, gradient\n",
    "\n",
    "\n",
    "def update(w, grad, lr):\n",
    "\tfor d in range(w.shape[1]):\n",
    "\t\tw[0,d] = w[0,d] - lr*grad[0,d]\n",
    "\n",
    "\n",
    "def train(x, y, x_test, y_test, C, lr, iteration):\n",
    "\ttrain_num, dimension = x.shape[0], x.shape[1]\n",
    "\tw = numpy.zeros((1, dimension))\n",
    "\tloss_history = numpy.zeros((iteration, 1))\n",
    "\ttest_loss_history = numpy.zeros((iteration, 1))\n",
    "\tfor iter in range(iteration):\n",
    "\t\tloss_history[iter,0], test_loss_history[iter,0], gradient = loss_and_gradient(x, y, x_test, y_test, w, C)\n",
    "\t\tupdate(w, gradient, lr)\n",
    "\treturn w, loss_history, test_loss_history\n",
    "\n",
    "\n",
    "def predict(x, w):\n",
    "\ty_predict = x.dot(w.T)\n",
    "\tfor i in range(x.shape[0]):\n",
    "\t\tif y_predict[i,0]>=0 :\n",
    "\t\t\ty_predict[i,0] = 1\n",
    "\t\telse :\n",
    "\t\t\ty_predict[i,0] = -1\n",
    "\treturn y_predict\n",
    "\n",
    "x, y = load_svmlight_file(\"australian.txt\")\n",
    "\n",
    "x_train, x_test, y_train, y_test = train_test_split(x, y, test_size = 0.3)\n",
    "x_train, x_test = x_train.toarray(), x_test.toarray()\n",
    "y_train, y_test = y_train.reshape((-1,1)), y_test.reshape((-1,1))\n",
    "\n",
    "X_train = numpy.hstack([x_train, numpy.ones((x_train.shape[0], 1))])\n",
    "X_test = numpy.hstack([x_test, numpy.ones((x_test.shape[0], 1))])\n",
    "\n",
    "w, loss_history, test_loss_history= train(X_train, y_train, X_test, y_test, 0.3, 0.0001, 2000)\n",
    "y_predict = predict(X_test, w)\n",
    "loss=0\n",
    "\n",
    "for i in range(y_predict.shape[0]):\n",
    "\tloss = loss + pow(y_predict[i,0]-y_test[i,0], 2)\n",
    "print(loss/y_predict.shape[0])\n",
    "\n",
    "pyplot.plot(loss_history, label = 'loss')\n",
    "pyplot.plot(test_loss_history, label = 'validation_loss')\n",
    "pyplot.legend(loc='upper right')\n",
    "pyplot.ylabel('loss')\n",
    "pyplot.xlabel('iteration')\n",
    "pyplot.title('graph')\n",
    "pyplot.show()"
   ]
  },
  {
   "cell_type": "code",
   "execution_count": null,
   "metadata": {},
   "outputs": [],
   "source": []
  }
 ],
 "metadata": {
  "kernelspec": {
   "display_name": "Python 3",
   "language": "python",
   "name": "python3"
  },
  "language_info": {
   "codemirror_mode": {
    "name": "ipython",
    "version": 3
   },
   "file_extension": ".py",
   "mimetype": "text/x-python",
   "name": "python",
   "nbconvert_exporter": "python",
   "pygments_lexer": "ipython3",
   "version": "3.6.2"
  }
 },
 "nbformat": 4,
 "nbformat_minor": 2
}
